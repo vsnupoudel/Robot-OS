{
 "cells": [
  {
   "cell_type": "code",
   "execution_count": 1,
   "metadata": {},
   "outputs": [
    {
     "data": {
      "text/plain": [
       "'C:\\\\Users\\\\admin\\\\Pictures\\\\45_deg_consolidated'"
      ]
     },
     "execution_count": 1,
     "metadata": {},
     "output_type": "execute_result"
    }
   ],
   "source": [
    "pwd()"
   ]
  },
  {
   "cell_type": "code",
   "execution_count": 12,
   "metadata": {},
   "outputs": [],
   "source": [
    "import pandas as pd\n",
    "import numpy as np\n",
    "import os\n",
    "import pathlib"
   ]
  },
  {
   "cell_type": "code",
   "execution_count": 28,
   "metadata": {},
   "outputs": [],
   "source": [
    "df= pd.read_excel('20BMLROBOT - Avlingsforsøk 24 historiske sorter Vollebekk.xlsx'\n",
    "                        , sheet_name='Sheet1', usecols=[0,1], names = ['image_taken_seq','species_ID'] )"
   ]
  },
  {
   "cell_type": "code",
   "execution_count": 29,
   "metadata": {},
   "outputs": [
    {
     "data": {
      "text/html": [
       "<div>\n",
       "<style scoped>\n",
       "    .dataframe tbody tr th:only-of-type {\n",
       "        vertical-align: middle;\n",
       "    }\n",
       "\n",
       "    .dataframe tbody tr th {\n",
       "        vertical-align: top;\n",
       "    }\n",
       "\n",
       "    .dataframe thead th {\n",
       "        text-align: right;\n",
       "    }\n",
       "</style>\n",
       "<table border=\"1\" class=\"dataframe\">\n",
       "  <thead>\n",
       "    <tr style=\"text-align: right;\">\n",
       "      <th></th>\n",
       "      <th>image_taken_seq</th>\n",
       "      <th>species_ID</th>\n",
       "    </tr>\n",
       "  </thead>\n",
       "  <tbody>\n",
       "    <tr>\n",
       "      <th>0</th>\n",
       "      <td>1</td>\n",
       "      <td>1801</td>\n",
       "    </tr>\n",
       "    <tr>\n",
       "      <th>1</th>\n",
       "      <td>2</td>\n",
       "      <td>1701</td>\n",
       "    </tr>\n",
       "    <tr>\n",
       "      <th>2</th>\n",
       "      <td>3</td>\n",
       "      <td>1601</td>\n",
       "    </tr>\n",
       "    <tr>\n",
       "      <th>3</th>\n",
       "      <td>4</td>\n",
       "      <td>1501</td>\n",
       "    </tr>\n",
       "    <tr>\n",
       "      <th>4</th>\n",
       "      <td>5</td>\n",
       "      <td>1401</td>\n",
       "    </tr>\n",
       "  </tbody>\n",
       "</table>\n",
       "</div>"
      ],
      "text/plain": [
       "   image_taken_seq  species_ID\n",
       "0                1        1801\n",
       "1                2        1701\n",
       "2                3        1601\n",
       "3                4        1501\n",
       "4                5        1401"
      ]
     },
     "execution_count": 29,
     "metadata": {},
     "output_type": "execute_result"
    }
   ],
   "source": [
    "df.head()"
   ]
  },
  {
   "cell_type": "code",
   "execution_count": 42,
   "metadata": {},
   "outputs": [],
   "source": [
    "mapdict = {}\n",
    "for i in df.index:\n",
    "    mapdict[ df['image_taken_seq'][i] ] =  df['species_ID'][i]"
   ]
  },
  {
   "cell_type": "code",
   "execution_count": 43,
   "metadata": {},
   "outputs": [
    {
     "data": {
      "text/plain": [
       "{1: 1801,\n",
       " 2: 1701,\n",
       " 3: 1601,\n",
       " 4: 1501,\n",
       " 5: 1401,\n",
       " 6: 1301,\n",
       " 7: 1201,\n",
       " 8: 1101,\n",
       " 9: 1102,\n",
       " 10: 1202,\n",
       " 11: 1302,\n",
       " 12: 1402,\n",
       " 13: 1502,\n",
       " 14: 1602,\n",
       " 15: 1702,\n",
       " 16: 1802,\n",
       " 17: 1803,\n",
       " 18: 1703,\n",
       " 19: 1603,\n",
       " 20: 1503,\n",
       " 21: 1403,\n",
       " 22: 1303,\n",
       " 23: 1203,\n",
       " 24: 1103,\n",
       " 25: 1104,\n",
       " 26: 1204,\n",
       " 27: 1304,\n",
       " 28: 1404,\n",
       " 29: 1504,\n",
       " 30: 1604,\n",
       " 31: 1704,\n",
       " 32: 1804,\n",
       " 33: 1805,\n",
       " 34: 1705,\n",
       " 35: 1605,\n",
       " 36: 1505,\n",
       " 37: 1405,\n",
       " 38: 1305,\n",
       " 39: 1205,\n",
       " 40: 1105,\n",
       " 41: 1106,\n",
       " 42: 1206,\n",
       " 43: 1306,\n",
       " 44: 1406,\n",
       " 45: 1506,\n",
       " 46: 1606,\n",
       " 47: 1706,\n",
       " 48: 1806,\n",
       " 49: 1807,\n",
       " 50: 1707,\n",
       " 51: 1607,\n",
       " 52: 1507,\n",
       " 53: 1407,\n",
       " 54: 1307,\n",
       " 55: 1207,\n",
       " 56: 1107,\n",
       " 57: 1108,\n",
       " 58: 1208,\n",
       " 59: 1308,\n",
       " 60: 1408,\n",
       " 61: 1508,\n",
       " 62: 1608,\n",
       " 63: 1708,\n",
       " 64: 1808,\n",
       " 65: 1809,\n",
       " 66: 1709,\n",
       " 67: 1609,\n",
       " 68: 1509,\n",
       " 69: 1409,\n",
       " 70: 1309,\n",
       " 71: 1209,\n",
       " 72: 1109,\n",
       " 73: 1110,\n",
       " 74: 1210,\n",
       " 75: 1310,\n",
       " 76: 1410,\n",
       " 77: 1510,\n",
       " 78: 1610,\n",
       " 79: 1710,\n",
       " 80: 1810,\n",
       " 81: 1811,\n",
       " 82: 1711,\n",
       " 83: 1611,\n",
       " 84: 1511,\n",
       " 85: 1411,\n",
       " 86: 1311,\n",
       " 87: 1211,\n",
       " 88: 1111,\n",
       " 89: 1112,\n",
       " 90: 1212,\n",
       " 91: 1312,\n",
       " 92: 1412,\n",
       " 93: 1512,\n",
       " 94: 1612,\n",
       " 95: 1712,\n",
       " 96: 1812}"
      ]
     },
     "execution_count": 43,
     "metadata": {},
     "output_type": "execute_result"
    }
   ],
   "source": [
    "mapdict"
   ]
  },
  {
   "cell_type": "code",
   "execution_count": 48,
   "metadata": {},
   "outputs": [],
   "source": [
    "listdir = [ int(name) for name in os.listdir('.') if os.path.isdir(os.path.join('.', name)) and 'ip' not in name  ]"
   ]
  },
  {
   "cell_type": "code",
   "execution_count": 51,
   "metadata": {},
   "outputs": [],
   "source": [
    "for i, j in mapdict.items():\n",
    "    os.rename(str(i), str(j))\n",
    "    "
   ]
  },
  {
   "cell_type": "code",
   "execution_count": null,
   "metadata": {},
   "outputs": [],
   "source": []
  }
 ],
 "metadata": {
  "kernelspec": {
   "display_name": "Python 3",
   "language": "python",
   "name": "python3"
  },
  "language_info": {
   "codemirror_mode": {
    "name": "ipython",
    "version": 3
   },
   "file_extension": ".py",
   "mimetype": "text/x-python",
   "name": "python",
   "nbconvert_exporter": "python",
   "pygments_lexer": "ipython3",
   "version": "3.7.7"
  }
 },
 "nbformat": 4,
 "nbformat_minor": 4
}
